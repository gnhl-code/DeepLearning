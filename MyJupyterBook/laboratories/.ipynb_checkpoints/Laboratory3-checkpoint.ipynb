{
 "cells": [
  {
   "cell_type": "markdown",
   "id": "d7835ce6-404c-4770-a811-19826c1c565f",
   "metadata": {},
   "source": [
    "# Laboratory Task 3\n",
    "\n",
    "Genheylou Felisilda - DS4A"
   ]
  },
  {
   "cell_type": "code",
   "execution_count": null,
   "id": "4eef96f9-231d-4b99-9cb1-4d729bc6faef",
   "metadata": {},
   "outputs": [],
   "source": []
  }
 ],
 "metadata": {
  "kernelspec": {
   "display_name": "Python 3 (ipykernel)",
   "language": "python",
   "name": "python3"
  },
  "language_info": {
   "codemirror_mode": {
    "name": "ipython",
    "version": 3
   },
   "file_extension": ".py",
   "mimetype": "text/x-python",
   "name": "python",
   "nbconvert_exporter": "python",
   "pygments_lexer": "ipython3",
   "version": "3.13.5"
  }
 },
 "nbformat": 4,
 "nbformat_minor": 5
}
