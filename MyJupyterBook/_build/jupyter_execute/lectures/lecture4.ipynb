{
 "cells": [
  {
   "cell_type": "markdown",
   "id": "e52c687e-9f24-49d6-88c7-e3f1050218df",
   "metadata": {},
   "source": [
    "<h3 style=\"font-family: Times New Roman\"><strong>Main Types of Deep Learning Neural Networks</strong></h3>"
   ]
  },
  {
   "cell_type": "markdown",
   "id": "5a356ae4-2f13-4387-9d8d-fa358512b64a",
   "metadata": {},
   "source": [
    "<p style=\"font-family:Times New Roman; text-align:justify; font-size:15px\">\n",
    "Deep learning neural networks come in various architectures, each suited to different types of tasks and data. The most basic form is the Feedforward Neural Network (FNN), also known simply as a multi-layer perceptron (MLP). In these networks, data moves in one direction—from input nodes, through hidden layers, to output nodes. Each layer consists of neurons, which are mathematical functions that compute a weighted sum of inputs and pass it through an activation function. These networks are primarily used for tasks where data has a fixed-size input, like image classification or simple regression problems. They are the foundation of more complex neural network types.\n",
    "</p>\n",
    "\n",
    "<h4 style=\"font-family: Times New Roman\"><strong>Feedforward Neural Network</strong></h4>\n",
    "<center><img src=\"figures/IM_drawio-FNN.drawio.svg\" width=\"40%\" height=\"40%\"></center>"
   ]
  },
  {
   "cell_type": "markdown",
   "id": "7e04e597-19e8-4f4a-b221-b43d82f1d6c8",
   "metadata": {},
   "source": [
    "<p style=\"font-family:Times New Roman; text-align:justify; font-size:15px\">\n",
    "Convolutional Neural Networks (CNNs) are specialized for processing grid-like data, such as images. They use convolutional layers to automatically and adaptively learn spatial hierarchies of features from input images. Convolutional layers apply filters (kernels) across the input data to produce feature maps, capturing patterns like edges, textures, and shapes. This is followed by pooling layers, which reduce the spatial dimensions of the feature maps and help in achieving spatial invariance. CNNs are highly effective for image-related tasks, including object detection, image segmentation, and facial recognition, due to their ability to detect local patterns and hierarchical structures.\n",
    "</p>\n",
    "\n",
    "<h4 style=\"font-family: Times New Roman\"><strong>Convolutional Neural Network</strong></h4>\n",
    "<img src=\"figures/polo-cnn.png\">\n",
    "<a href=\"https://poloclub.github.io/cnn-explainer/\"><p style=\"font-family:Times New Roman; font-size:12px; color:gray\">https://poloclub.github.io/cnn-explainer/</p></a>"
   ]
  },
  {
   "cell_type": "markdown",
   "id": "570e2c24-5ec6-49aa-b20e-b2742edf1a34",
   "metadata": {},
   "source": [
    "<p style=\"font-family:Times New Roman; text-align:justify; font-size:15px\">\n",
    "Recurrent Neural Networks (RNNs), including their variants like Long Short-Term Memory (LSTM) and Gated Recurrent Unit (GRU) networks, are designed to handle sequential data. Unlike feedforward networks, RNNs have connections that form directed cycles, enabling them to maintain a memory of previous inputs. This makes them ideal for tasks where context and order are crucial, such as natural language processing, time series prediction, and speech recognition. LSTMs and GRUs address the problem of vanishing gradients in traditional RNNs by incorporating mechanisms to retain long-term dependencies and improve learning from long sequences. These networks have been pivotal in advancements in machine translation, text generation, and other sequence-based applications.\n",
    "</p>\n",
    "\n",
    "<h4 style=\"font-family: Times New Roman\"><strong>Recurrent Neural Network</strong></h4>\n",
    "<center><img src=\"https://miro.medium.com/v2/resize:fit:828/format:webp/1*ccHxugJhQo7VH4GAAZt3Sg.png\"></center>"
   ]
  },
  {
   "cell_type": "markdown",
   "id": "05c1f9b0-3815-4a4f-8fdf-7234ef97908b",
   "metadata": {},
   "source": [
    "<p style=\"font-family:Times New Roman; text-align:justify; font-size:15px\">\n",
    "In this course, we will focus on these three fundamental types of deep neural networks. These architectures are the most common and serve as the foundation for understanding more advanced deep learning models. Feedforward Neural Networks are essential for grasping the basics of neural network operation and supervised learning. Convolutional Neural Networks are pivotal for image processing tasks, leveraging their ability to detect spatial hierarchies in data. Recurrent Neural Networks, along with their variants like LSTMs and GRUs, are crucial for sequence data analysis, such as language processing and time series prediction. Mastering these networks will equip you with the necessary skills to explore and understand more complex and specialized neural network architectures. Later in the course, we will delve deeper into these foundational networks to uncover more advanced techniques and applications, preparing you for a comprehensive understanding of the deep learning field.\n",
    "</p>"
   ]
  },
  {
   "cell_type": "markdown",
   "id": "af5124f4-e117-4e96-a0fd-c247beb78e9a",
   "metadata": {},
   "source": []
  }
 ],
 "metadata": {
  "kernelspec": {
   "display_name": "Python 3 (ipykernel)",
   "language": "python",
   "name": "python3"
  },
  "language_info": {
   "codemirror_mode": {
    "name": "ipython",
    "version": 3
   },
   "file_extension": ".py",
   "mimetype": "text/x-python",
   "name": "python",
   "nbconvert_exporter": "python",
   "pygments_lexer": "ipython3",
   "version": "3.13.7"
  },
  "widgets": {
   "application/vnd.jupyter.widget-state+json": {
    "state": {},
    "version_major": 2,
    "version_minor": 0
   }
  }
 },
 "nbformat": 4,
 "nbformat_minor": 5
}