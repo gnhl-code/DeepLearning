{
 "cells": [
  {
   "cell_type": "markdown",
   "id": "aa7f15e8-bb54-4811-9174-edde7db7dcc3",
   "metadata": {},
   "source": [
    "# Laboratory Task 5\n",
    "\n",
    "Genheylou Felisilda - DS4A"
   ]
  },
  {
   "cell_type": "markdown",
   "id": "514bbc19",
   "metadata": {},
   "source": [
    "\n",
    "Instructions: Pytorch Excercises\n",
    "1. Perform Standard Imports\n",
    "2. Create a function called `set_seed()` that accepts `seed: int` as a parameter, this function must return nothing but just set the seed to a certain value \n",
    "3. Create a NumPy array called \"arr\" that contains 6 random integers between 0 (inclusive) and 5 (exclusive), call the `set_seed()` function and use `42` as the seed parameter.\n",
    "4. Create a tensor \"x\" from the array above\n",
    "5. Change the dtype of x from `int32` to `int64`\n",
    "6. Reshape `x` into a 3x2 tensor  \n",
    "There are several ways to do this. \n",
    "7. Return the right-hand column of tensor `x \n",
    "8. Without changing x, return a tensor of square values of `x  \n",
    "There are several ways to do this. \n",
    "9. Create a tensor `y` with the same number of elements as `x`, that can be matrix-multiplied with `x  \n",
    "Use PyTorch directly (not NumPy) to create a tensor of random integers between 0 (inclusive) and 5 (exclusive). Use 42 as seed.  \n",
    "Think about what shape it should have to permit matrix multiplication. \n",
    "10. Find the matrix product of `x` and `y"
   ]
  },
  {
   "cell_type": "code",
   "execution_count": 1,
   "id": "edb16a35-e52a-4dd0-adff-e51dd2704075",
   "metadata": {},
   "outputs": [],
   "source": [
    "#1 Perform Standard Imports\n",
    "\n",
    "import torch\n",
    "import numpy as np\n",
    "import sys"
   ]
  },
  {
   "cell_type": "code",
   "execution_count": 2,
   "id": "3e55ecc2-3199-4bca-bd53-4a4a5179c827",
   "metadata": {},
   "outputs": [],
   "source": [
    "#2 Create a function called set_seed() that accepts seed: int as a parameter, \n",
    "#this function must return nothing but just set the seed to a certain value.\n",
    "\n",
    "def set_seed(seed: int):\n",
    "    np.random.seed(seed)\n",
    "    torch.manual_seed(seed)"
   ]
  },
  {
   "cell_type": "code",
   "execution_count": 3,
   "id": "c60767d5-9b40-43d1-8eea-e8a74593f212",
   "metadata": {},
   "outputs": [
    {
     "data": {
      "text/plain": [
       "array([4, 2, 3, 1, 2, 0], dtype=int32)"
      ]
     },
     "execution_count": 3,
     "metadata": {},
     "output_type": "execute_result"
    }
   ],
   "source": [
    "#3 Create a NumPy array called \"arr\" that contains 6 random integers between 0 \n",
    "#(inclusive) and 5 (exclusive), call the set_seed() function and use 42 as the seed parameter.\n",
    "\n",
    "arr = np.random.randint(0,5, size=6)\n",
    "arr"
   ]
  },
  {
   "cell_type": "code",
   "execution_count": 4,
   "id": "1434d36e-be4f-40ce-b8ec-3f3373c7bcdf",
   "metadata": {},
   "outputs": [
    {
     "name": "stdout",
     "output_type": "stream",
     "text": [
      "tensor([4, 2, 3, 1, 2, 0], dtype=torch.int32)\n"
     ]
    }
   ],
   "source": [
    "#4 Create a tensor \"x\" from the array above\n",
    "\n",
    "x = torch.from_numpy(arr)\n",
    "print(x)"
   ]
  },
  {
   "cell_type": "code",
   "execution_count": 5,
   "id": "7416ce74-8ae3-49fa-96a4-53baa33bac90",
   "metadata": {},
   "outputs": [
    {
     "name": "stdout",
     "output_type": "stream",
     "text": [
      "Old: torch.int32\n",
      "New: torch.int64\n"
     ]
    }
   ],
   "source": [
    "#5 Change the dtype of x from int32 to int64\n",
    "\n",
    "print(\"Old:\", x.dtype)\n",
    "x = x.type(torch.int64)\n",
    "\n",
    "print(\"New:\", x.dtype)"
   ]
  },
  {
   "cell_type": "code",
   "execution_count": 6,
   "id": "8d863aa6-eb97-4a15-9f2f-6c7513ab1a4d",
   "metadata": {},
   "outputs": [
    {
     "data": {
      "text/plain": [
       "tensor([[4, 2],\n",
       "        [3, 1],\n",
       "        [2, 0]])"
      ]
     },
     "execution_count": 6,
     "metadata": {},
     "output_type": "execute_result"
    }
   ],
   "source": [
    "#6 Reshape x into a 3x2 tensor\n",
    "reshaped = x.reshape(3,2)\n",
    "reshaped"
   ]
  },
  {
   "cell_type": "code",
   "execution_count": 7,
   "id": "63315164-d3e9-4455-8792-66f956bb2a96",
   "metadata": {
    "jupyter": {
     "source_hidden": true
    }
   },
   "outputs": [
    {
     "data": {
      "text/plain": [
       "tensor([[2],\n",
       "        [1],\n",
       "        [0]])"
      ]
     },
     "execution_count": 7,
     "metadata": {},
     "output_type": "execute_result"
    }
   ],
   "source": [
    "#7 Return the right-hand column of tensor x\n",
    "\n",
    "right_col = reshaped[:, 1:]\n",
    "right_col"
   ]
  },
  {
   "cell_type": "code",
   "execution_count": 8,
   "id": "e1491f98-ec8f-45a6-b1ad-8cde36155def",
   "metadata": {},
   "outputs": [
    {
     "data": {
      "text/plain": [
       "tensor([[16,  4],\n",
       "        [ 9,  1],\n",
       "        [ 4,  0]])"
      ]
     },
     "execution_count": 8,
     "metadata": {},
     "output_type": "execute_result"
    }
   ],
   "source": [
    "#8 Without changing x, return a tensor of square values of x\n",
    "\n",
    "x_squared = reshaped ** 2 \n",
    "x_squared"
   ]
  },
  {
   "cell_type": "code",
   "execution_count": 9,
   "id": "2e23f313-d9ad-45b5-8cdc-0ad241002891",
   "metadata": {},
   "outputs": [
    {
     "data": {
      "text/plain": [
       "tensor([[0.8823, 0.9150, 0.3829],\n",
       "        [0.9593, 0.3904, 0.6009]])"
      ]
     },
     "execution_count": 9,
     "metadata": {},
     "output_type": "execute_result"
    }
   ],
   "source": [
    "#9 Create a tensor y with the same number of elements as x, that can be matrix-multiplied with x\n",
    "\n",
    "torch.manual_seed(42)\n",
    "y = torch.rand(2,3)\n",
    "y\n"
   ]
  },
  {
   "cell_type": "code",
   "execution_count": 10,
   "id": "6e331c16-c66d-4093-91c1-5e70355744a9",
   "metadata": {},
   "outputs": [
    {
     "data": {
      "text/plain": [
       "tensor([[0.7784, 0.8372, 0.1466],\n",
       "        [0.9203, 0.1524, 0.3611]])"
      ]
     },
     "execution_count": 10,
     "metadata": {},
     "output_type": "execute_result"
    }
   ],
   "source": [
    "#10 Find the matrix product of x and y.\n",
    "\n",
    "product = y.mul(y)\n",
    "product"
   ]
  }
 ],
 "metadata": {
  "kernelspec": {
   "display_name": "Python 3 (ipykernel)",
   "language": "python",
   "name": "python3"
  },
  "language_info": {
   "codemirror_mode": {
    "name": "ipython",
    "version": 3
   },
   "file_extension": ".py",
   "mimetype": "text/x-python",
   "name": "python",
   "nbconvert_exporter": "python",
   "pygments_lexer": "ipython3",
   "version": "3.13.7"
  }
 },
 "nbformat": 4,
 "nbformat_minor": 5
}