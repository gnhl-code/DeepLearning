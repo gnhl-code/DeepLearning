{
 "cells": [
  {
   "cell_type": "markdown",
   "id": "875ea377",
   "metadata": {},
   "source": [
    "# Lecture Task 1\n",
    "\n",
    "Genheylou Felisilda - DS4A"
   ]
  },
  {
   "cell_type": "markdown",
   "id": "53329a77",
   "metadata": {},
   "source": [
    "![i](images/image.jpg)"
   ]
  },
  {
   "cell_type": "markdown",
   "id": "68870a43",
   "metadata": {},
   "source": [
    "<div style=\"font-family:Arial; font-size:15px; text-align:justify;\">\n",
    "  <p>\n",
    "    There are multiple aspects that AI has been positively that we haven’t realized that they were drastically impacting the society, especially to those in need. AI and machine learning has been utilized such as autonomous cars, early detection of pancreas cancer, and software that can detect anything-to-speech that it sees for people with visual impairment.\n",
    "  </p>\n",
    "  <p>\n",
    "    The video also talks about how AI will continue to shape the future. It shows that AI can bring many opportunities, like improving healthcare, education, and even helping solve bigger global problems such as climate change. At the same time, it reminds us that there are challenges, including issues of data privacy, bias in algorithms, and the danger of relying too much on machines. This means the future of AI is full of potential, but it must be handled with care.\n",
    "  </p>\n",
    "  <p>\n",
    "    To balance the benefits and drawbacks of AI, the video highlights the importance of using AI responsibly. This means making AI systems more transparent, following ethical rules, and involving not just scientists but also policymakers and communities in decision-making. By focusing on people’s needs first, we can make sure AI becomes a tool that improves lives while avoiding its risks.\n",
    "  </p>\n",
    "</div>"
   ]
  }
 ],
 "metadata": {
  "language_info": {
   "name": "python"
  }
 },
 "nbformat": 4,
 "nbformat_minor": 5
}
