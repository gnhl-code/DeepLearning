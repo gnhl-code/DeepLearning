{
 "cells": [
  {
   "cell_type": "markdown",
   "metadata": {},
   "source": [
    "# Laboratory Task 1\n",
    "\n",
    "Genheylou Felisilda - DS4A"
   ]
  },
  {
   "cell_type": "markdown",
   "metadata": {},
   "source": [
    "Dr. Jake is a medical doctor and the CEO of Astro JR, a giant pharmaceutical company in the Philippines. To support the production and use of AstroJR’s COVID19 vaccine, this company has implemented a number of business intelligence and data analytics tools. Your task is to provide the appropriate and necessary analytical questions Dr. Jake must ask his analytics team in order to provide better deployment and production of COVID19 vaccines around the world using descriptive, predictive, and prescriptive analytics.\n",
    "\n",
    "Descriptive: How many infected cases since last week?\n",
    "Diagnostic: What factor affects the demand of AstroJR's COVID19 vaccine?\n",
    "Predictive: How many deaths next week?\n",
    "Prescriptive: If the number of cases will increase next week, how many hospital staff should be here to adequately treat the influx of patients?\n",
    "\n",
    "\n",
    "<div class=\"alert alert-block alert-success\" style=\"font-family: Arial;\">\n",
    "    <p style=\"font-family: Arial; text-align: justify; font-size: 15px;\">\n",
    "        <ol>\n",
    "            <li><b>Descriptive:</b>\n",
    "                <ul>\n",
    "                    <li>How many vaccines were distributed to each region in the last month?</li>\n",
    "                    <li>What is the daily vaccination rate per city over the past three months?</li>\n",
    "                </ul>\n",
    "            </li>\n",
    "            <li><b>Diagnostic:</b>\n",
    "                <ul>\n",
    "                    <li>Which demographic groups are receiving the least number of vaccines, and why?</li>\n",
    "                    <li>How does vaccine supply chain delay impact the vaccination rate in different regions?</li>\n",
    "                </ul>\n",
    "            </li>\n",
    "            <li><b>Predictive:</b>\n",
    "                <ul>\n",
    "                    <li>Based on current trends, how many people are likely to be fully vaccinated by the end of the next quarter?</li>\n",
    "                    <li>How many new COVID-19 cases are expected in the next month in regions with low vaccination coverage?</li>\n",
    "                </ul>\n",
    "            </li>\n",
    "            <li><b>Prescriptive:</b>\n",
    "                <ul>\n",
    "                    <li>If a particular region experiences a surge in COVID-19 cases, how should vaccine stock be reallocated to meet demand?</li>\n",
    "                    <li>What is the optimal vaccination schedule to achieve herd immunity in the shortest time possible?</li>\n",
    "                </ul>\n",
    "            </li>\n",
    "        </ol>\n",
    "    </p>\n",
    "</div>\n"
   ]
  }
 ],
 "metadata": {
  "kernelspec": {
   "display_name": "Python 3 (ipykernel)",
   "language": "python",
   "name": "python3"
  },
  "language_info": {
   "codemirror_mode": {
    "name": "ipython",
    "version": 3
   },
   "file_extension": ".py",
   "mimetype": "text/x-python",
   "name": "python",
   "nbconvert_exporter": "python",
   "pygments_lexer": "ipython3",
   "version": "3.13.5"
  },
  "widgets": {
   "application/vnd.jupyter.widget-state+json": {
    "state": {},
    "version_major": 2,
    "version_minor": 0
   }
  }
 },
 "nbformat": 4,
 "nbformat_minor": 4
}
